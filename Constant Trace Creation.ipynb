{
 "cells": [
  {
   "cell_type": "markdown",
   "id": "65ee7461",
   "metadata": {},
   "source": [
    "# Constant Trace Creation\n",
    "\n",
    "In this notebook we will produce a simulation of a constant flux through the science, LFC, sky background, and dark fibers, then combine them into a single image.\n",
    "\n",
    "This is intended for measuring the trace/order positions and separations and is not intended as a realistic product."
   ]
  },
  {
   "cell_type": "code",
   "execution_count": null,
   "id": "77e74643",
   "metadata": {},
   "outputs": [],
   "source": [
    "from pyechelle.simulator import Simulator\n",
    "from pyechelle.telescope import Telescope\n",
    "from pyechelle.sources import Constant\n",
    "from pyechelle.spectrograph import ZEMAX\n",
    "import numpy as np\n",
    "from astropy.io import fits"
   ]
  },
  {
   "cell_type": "markdown",
   "id": "960f81d8",
   "metadata": {},
   "source": [
    "### Setup paths and file names\n",
    "Change the output path as desired."
   ]
  },
  {
   "cell_type": "code",
   "execution_count": null,
   "id": "4289063f",
   "metadata": {},
   "outputs": [],
   "source": [
    "output_path = '/home/aidan/data/hispec_simulations/'\n",
    "\n",
    "sci_fiber_model = 'HISPEC_HK_SCI'\n",
    "lfc_fiber_model = 'HISPEC_HK_LFC'\n",
    "sky_fiber_model = 'HISPEC_HK_SKY_BKGD'\n",
    "dark_fiber_model = 'HISPEC_HK_DARK'"
   ]
  },
  {
   "cell_type": "markdown",
   "id": "929428ee",
   "metadata": {},
   "source": [
    "### Loop over each fiber\n",
    "Each fiber will have the same constant flux.\n",
    "\n",
    "<font color='red'>Note that this make take some time depending on the constant intensity!</font> You should see progress updates printed as each order is simulated."
   ]
  },
  {
   "cell_type": "code",
   "execution_count": null,
   "id": "6e9bc314",
   "metadata": {},
   "outputs": [],
   "source": [
    "fibers = [sci_fiber_model, lfc_fiber_model, sky_fiber_model, dark_fiber_model]\n",
    "\n",
    "for fiber_model in fibers:\n",
    "    sim = Simulator(ZEMAX(fiber_model))\n",
    "    sim.set_ccd(1) # always leave as 1\n",
    "    sim.set_fibers(1) # always leave as 1\n",
    "    sim.set_sources(Constant(1e-5)) # Constant(intensity [microW / micron / s])\n",
    "    sim.set_exposure_time(1) # s\n",
    "    sim.set_output(output_path+fiber_model+'_constant_trace.fits', overwrite=True)\n",
    "    sim.set_telescope(Telescope(9.96,0)) # Telescope(primary diameter, secondary diameter)\n",
    "    sim.set_orders([*range(59, 98)]) # a list of all expected orders 59 to 97\n",
    "\n",
    "    sim.max_cpu = 1 # set number of cpu to use\n",
    "    sim.run()"
   ]
  },
  {
   "cell_type": "markdown",
   "id": "a152fcf0",
   "metadata": {},
   "source": [
    "### Combine into a single image"
   ]
  },
  {
   "cell_type": "code",
   "execution_count": null,
   "id": "af8a562c",
   "metadata": {},
   "outputs": [],
   "source": [
    "hdu_data = np.empty((4, 4096, 4096))\n",
    "\n",
    "for i, fiber_model in enumerate(fibers):\n",
    "    hdu = fits.open(output_path+fiber_model+'_constant_trace.fits')\n",
    "    hdu_data[i] = hdu[0].data\n",
    "    hdu.close()\n",
    "    \n",
    "data = np.sum(hdul, axis=0)\n",
    "\n",
    "# Write result\n",
    "dataout = fits.PrimaryHDU(data)\n",
    "dataout.writeto(output_path+'HISPEC_HK_constant_trace_combined.fits', overwrite=True)"
   ]
  }
 ],
 "metadata": {
  "kernelspec": {
   "display_name": "Python 3",
   "language": "python",
   "name": "python3"
  },
  "language_info": {
   "codemirror_mode": {
    "name": "ipython",
    "version": 3
   },
   "file_extension": ".py",
   "mimetype": "text/x-python",
   "name": "python",
   "nbconvert_exporter": "python",
   "pygments_lexer": "ipython3",
   "version": "3.9.12"
  }
 },
 "nbformat": 4,
 "nbformat_minor": 5
}
