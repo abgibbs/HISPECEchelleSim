{
 "cells": [
  {
   "cell_type": "markdown",
   "id": "8792ab49",
   "metadata": {},
   "source": [
    "#  Standard Star Tutorial\n",
    "Create a simulated observation of a standard A0 star"
   ]
  },
  {
   "cell_type": "code",
   "execution_count": null,
   "id": "c7a50d86",
   "metadata": {},
   "outputs": [],
   "source": [
    "from pyechelle.simulator import Simulator\n",
    "from pyechelle.telescope import Telescope\n",
    "from pyechelle.sources import Phoenix, Etalon, Constant, CSV\n",
    "from pyechelle.spectrograph import ZEMAX\n",
    "from pyechelle.efficiency import TabulatedEfficiency\n",
    "\n",
    "import numpy as np\n",
    "import matplotlib.pyplot as plt\n",
    "\n",
    "from astropy.io import fits\n",
    "import astropy.units as u\n",
    "import astropy.constants as c\n",
    "\n",
    "import scipy.io\n",
    "from scipy.ndimage import gaussian_filter\n",
    "import scipy.integrate as integrate\n",
    "\n",
    "from psisim import instrument,observation,spectrum,universe,plots,signal,telescope"
   ]
  },
  {
   "cell_type": "markdown",
   "id": "112ae46d",
   "metadata": {},
   "source": [
    "### Setup paths and file names\n",
    "Change the output path."
   ]
  },
  {
   "cell_type": "code",
   "execution_count": null,
   "id": "f9c841bc",
   "metadata": {},
   "outputs": [],
   "source": [
    "output_path = '/home/aidan/data/hispec_simulations/'\n",
    "\n",
    "sci_fiber_model = 'HISPEC_HK_SCI'\n",
    "lfc_fiber_model = 'HISPEC_HK_LFC'\n",
    "sky_fiber_model = 'HISPEC_HK_SKY_BKGD'\n",
    "dark_fiber_model = 'HISPEC_HK_DARK'"
   ]
  },
  {
   "cell_type": "markdown",
   "id": "999a67b7",
   "metadata": {},
   "source": [
    "### General observing parameters"
   ]
  },
  {
   "cell_type": "code",
   "execution_count": null,
   "id": "e91500bf",
   "metadata": {},
   "outputs": [],
   "source": [
    "t_exp = 30.0 # s\n",
    "tele = Telescope(9.96,0) # effective diameter of 9.96 meters, 0 central obstructions\n",
    "star_J_mag = 10.0\n",
    "planet_K_mag = 20.0"
   ]
  },
  {
   "cell_type": "markdown",
   "id": "87dfe0a2",
   "metadata": {},
   "source": [
    "#### Initialize PSISIM"
   ]
  },
  {
   "cell_type": "code",
   "execution_count": null,
   "id": "cee99de2",
   "metadata": {},
   "outputs": [],
   "source": [
    "path = '/scr3/dmawet/ETC/'\n",
    "filters = spectrum.load_filters()\n",
    "\n",
    "# telescope\n",
    "keck = telescope.Keck(path=path)\n",
    "keck.airmass=1.0\n",
    "keck.water_vapor=1.6\n",
    "keck.seeing = keck.median_seeing\n",
    "\n",
    "# instrument\n",
    "hispec = instrument.hispec(telescope=keck)"
   ]
  },
  {
   "cell_type": "markdown",
   "id": "2c008d9f",
   "metadata": {},
   "source": [
    "### LFC Fiber"
   ]
  },
  {
   "cell_type": "markdown",
   "id": "42b6d62c",
   "metadata": {},
   "source": [
    "Read in an lfc profile and use it to normalize our own frequency pattern. The resolution of the lfc spectrum is not high enough for use by itself."
   ]
  },
  {
   "cell_type": "code",
   "execution_count": null,
   "id": "886dcd16",
   "metadata": {},
   "outputs": [],
   "source": [
    "lfc_hk_path = 'lfc/20220513_1.5-3.4um/disp2_2.145_disp3_-0.05_ptamp_4.5A_1.5-2.7um.mat'\n",
    "lfc_hk = scipy.io.loadmat(lfc_hk_path) \n",
    "\n",
    "lfc_hk_power = np.power(10, lfc_hk['OSAPower'] / 10) * 1e4 * u.erg/u.s\n",
    "lfc_hk_wvs = (lfc_hk['OSAWavelength'] * u.nm).to(u.micron).flatten()\n",
    "lfc_hk_freq = (c.c / lfc_hk_wvs).to(u.Hz)\n",
    "\n",
    "# get the low pass envelope of the power\n",
    "lfc_envelope = gaussian_filter(lfc_hk_power, 30).flatten()\n",
    "lfc_envelope[0], lfc_envelope[-1] = 0.0, 0.0 # setting the ends to zero so it isn't interpolated beyond the range"
   ]
  },
  {
   "cell_type": "markdown",
   "id": "e101ea87",
   "metadata": {},
   "source": [
    "Here we create a frequency grid spectrum to mock the LFC"
   ]
  },
  {
   "cell_type": "code",
   "execution_count": null,
   "id": "394c4176",
   "metadata": {},
   "outputs": [],
   "source": [
    "# constructing frequency grid and converting it to wavelength space\n",
    "freq_spacing = 10e9 * u.Hz # 10 GHz spacing - not sure what the real value will be\n",
    "start_freq = (c.c /  0.9 / u.um ).to(u.Hz)\n",
    "end_freq = (c.c /  2.5 / u.um ).to(u.Hz)\n",
    "freq_array = np.arange(end_freq.value, start_freq.value, freq_spacing.value) * u.Hz\n",
    "wave_array = (c.c / freq_array).to(u.um)\n",
    "\n",
    "# convert power in the lfc envelope to a number of photons at each wavelength \n",
    "lfc_photons = (np.interp(wave_array, lfc_hk_wvs.flatten(), lfc_envelope.flatten()) / (c.h * freq_array).to(u.erg))\n",
    "lfc_photons = lfc_photons / 1e11 # the number of photons is currently scaled down arbitrarily\n",
    "\n",
    "# save to csv \n",
    "lfc_spec = np.transpose([wave_array.value, lfc_photons.value])\n",
    "np.savetxt(output_path+'lfc_spec_texp'+str(t_exp)+'.csv', lfc_spec, delimiter=',')"
   ]
  },
  {
   "cell_type": "markdown",
   "id": "e9002f5f",
   "metadata": {},
   "source": [
    "Get the throughput for the LFC fiber and spectrograph, which will be used by Pyechelle."
   ]
  },
  {
   "cell_type": "code",
   "execution_count": null,
   "id": "9027a497",
   "metadata": {},
   "outputs": [],
   "source": [
    "th_spec = hispec.get_spec_throughput(wave_array)\n",
    "th_wvs = hispec.th_data[0] * u.micron\n",
    "th_fiber = np.interp(wave_array, th_wvs, np.prod(hispec.th_data[31:38], axis=0))"
   ]
  },
  {
   "cell_type": "markdown",
   "id": "a46702b0",
   "metadata": {},
   "source": [
    "Run the simulation for the LFC fiber. Note that some orders may saturate."
   ]
  },
  {
   "cell_type": "code",
   "execution_count": null,
   "id": "3a4cd747",
   "metadata": {},
   "outputs": [],
   "source": [
    "lfc_sim = Simulator(ZEMAX(lfc_fiber_model))\n",
    "lfc_sim.set_ccd(1) # always leave as 1\n",
    "lfc_sim.set_fibers(1) # leave as 1 since the fibers are in separate models\n",
    "\n",
    "lfc_source = CSV(filepath=output_path+'lfc_spec_texp'+str(t_exp)+'.csv',list_like=True,\n",
    "                 flux_in_photons=True, wavelength_unit='micron')\n",
    "\n",
    "lfc_sim.set_sources(lfc_source) \n",
    "lfc_sim.set_efficiency(TabulatedEfficiency(1, wave_array, th_spec*th_fiber))\n",
    "\n",
    "lfc_sim.set_exposure_time(t_exp) # s\n",
    "lfc_sim.set_output(output_path+lfc_fiber_model+'_exp'+str(t_exp)+'.fits', overwrite=True)\n",
    "lfc_sim.set_telescope(tele) \n",
    "lfc_sim.set_orders([*range(59, 98)]) # a list of all expected orders 59 to 97\n",
    "\n",
    "lfc_sim.max_cpu = 1 # set number of cpu to use\n",
    "lfc_sim.run()"
   ]
  },
  {
   "cell_type": "markdown",
   "id": "e6c1deb5",
   "metadata": {},
   "source": [
    "### Science fiber"
   ]
  },
  {
   "cell_type": "markdown",
   "id": "a3a05472",
   "metadata": {},
   "source": [
    "Get an A0 phoenix spectrum from PSISIM. We will also collect a sky spectrum and thermal background.\n",
    "This is essentially a copy of the steps from the PSISIM HISPEC Tutorial notebook, except for an on-axis source. Issues - thermal flux may not be correct, and dark noise is being included twice"
   ]
  },
  {
   "cell_type": "code",
   "execution_count": null,
   "id": "87e68e23",
   "metadata": {},
   "outputs": [],
   "source": [
    "#First set the host properties for a Phoenix model. \n",
    "stellar_properties = {\"StarLogg\":4.00*u.dex(u.cm/ u.s**2),\"StarTeff\":10000*u.K,\"StarZ\":'-0.0',\"StarAlpha\":\"0.0\",\n",
    "                   \"StarRadialVelocity\":100*u.km/u.s,\n",
    "                    \"StarVsini\":10*u.km/u.s,\n",
    "                    \"StarLimbDarkening\":0.8}\n",
    "\n",
    "# Hispec doesn't care about the spectral type, but we need to include the paramter\n",
    "stellar_properties['StarSpT'] = None\n",
    "\n",
    "# The angular separation is also required, but not actually used when speckle noise is not included\n",
    "stellar_properties['AngSep'] = 0.0 *u.mas\n",
    "\n",
    "obj_properties = {\"StarLogg\":3.25*u.dex(u.cm/ u.s**2),\"StarTeff\":700*u.K,\"StarRadialVelocity\":20*u.km/u.s,\"StarVsini\":10*u.km/u.s,\n",
    "                  \"StarLimbDarkening\":0.9}\n",
    "\n",
    "\n",
    "all_wavelengths = []\n",
    "full_stellar_spectrum = []\n",
    "full_thermal_spec = []\n",
    "\n",
    "for hispec_filter in hispec.filters:\n",
    "    \n",
    "    #Setup the instrument\n",
    "    hispec.set_current_filter(hispec_filter)\n",
    "    wavelengths = hispec.get_wavelength_range()\n",
    "    hispec.set_observing_mode(t_exp,1,hispec_filter, wavelengths, mode='on-axis') \n",
    "    \n",
    "    \n",
    "    stellar_user_params = (path,'TwoMASS-J',star_J_mag,filters,hispec.current_filter)\n",
    "    \n",
    "    #Get the host star magnitude in the AO filter\n",
    "    stellar_properties[\"StarAOmag\"] = spectrum.get_model_ABmags(stellar_properties,[hispec.ao_filter], model='Phoenix',\n",
    "                                                             verbose=False,user_params = stellar_user_params)\n",
    "    hispec.ao_mag = stellar_properties[\"StarAOmag\"]\n",
    "    \n",
    "    stellar_spectrum = spectrum.get_stellar_spectrum(stellar_properties,wavelengths,hispec.current_R,\n",
    "                                                  model=\"Phoenix\",user_params=stellar_user_params,\n",
    "                                                  doppler_shift=True,broaden=True,delta_wv=hispec.current_dwvs)\n",
    "    \n",
    "    obj_user_params = (path,'TwoMASS-K',planet_K_mag,filters,hispec.current_filter)\n",
    "\n",
    "    obj_spectrum = spectrum.get_stellar_spectrum(obj_properties,wavelengths,hispec.current_R,model=\"Sonora\",\n",
    "                                             user_params=obj_user_params,doppler_shift=True,broaden=True,\n",
    "                                             delta_wv=hispec.current_dwvs)\n",
    "    \n",
    "    obj_spectrum.spectrum /= stellar_spectrum.spectrum\n",
    "        \n",
    "    obj_spec,total_noise,stellar_spec,thermal_spec,noise_components= observation.simulate_observation(keck,hispec,\n",
    "                                                                                      stellar_properties,\n",
    "                                                                                      obj_spectrum.spectrum.value,wavelengths,1e5,\n",
    "                                                                                      inject_noise=False,verbose=True,\n",
    "                                                                                      post_processing_gain = np.inf,\n",
    "                                                                                      return_noise_components=True,\n",
    "                                                                                      stellar_spec=stellar_spectrum.spectrum,\n",
    "                                                                                      apply_lsf=False,\n",
    "                                                                                      integrate_delta_wv=False,\n",
    "                                                                                      plot=False,\n",
    "                                                                                      sky_on=True)\n",
    "    \n",
    "    \n",
    "    all_wavelengths.append(wavelengths)\n",
    "    full_stellar_spectrum.append(stellar_spec)\n",
    "    full_thermal_spec.append(thermal_spec)\n",
    "    \n",
    "all_wavelengths = np.hstack(all_wavelengths).value*wavelengths.unit\n",
    "full_stellar_spectrum = np.hstack(full_stellar_spectrum).value*stellar_spec.unit\n",
    "full_thermal_spec = np.hstack(full_thermal_spec).value*thermal_spec.unit"
   ]
  },
  {
   "cell_type": "code",
   "execution_count": null,
   "id": "5d8b7a49",
   "metadata": {},
   "outputs": [],
   "source": [
    "# science + sky / thermal\n",
    "sci_spec = np.transpose([all_wavelengths.value, full_stellar_spectrum.value+full_thermal_spec.value])\n",
    "np.savetxt(output_path+'sci_spec_exp'+str(t_exp)+'_Jmag'+str(star_J_mag)+'.csv', sci_spec, delimiter=',')\n",
    "\n",
    "# sky / thermal only\n",
    "sky_spec = np.transpose([all_wavelengths.value, full_thermal_spec.value])\n",
    "np.savetxt(output_path+'sky_spec_exp'+str(t_exp)+'.csv', sky_spec, delimiter=',')"
   ]
  },
  {
   "cell_type": "markdown",
   "id": "1055a2c3",
   "metadata": {},
   "source": [
    "Simulate"
   ]
  },
  {
   "cell_type": "code",
   "execution_count": null,
   "id": "dc36287f",
   "metadata": {},
   "outputs": [],
   "source": [
    "sci_sim = Simulator(ZEMAX(sci_fiber_model))\n",
    "sci_sim.set_ccd(1) # always leave as 1\n",
    "sci_sim.set_fibers(1) # leave as 1 since the fibers are in separate models\n",
    "\n",
    "sci_source = CSV(filepath=output_path+'sci_spec_exp'+str(t_exp)+'_Jmag'+str(star_J_mag)+'.csv',list_like=False,\n",
    "                 flux_in_photons=True, wavelength_unit='micron')\n",
    "\n",
    "sci_sim.set_sources(sci_source) \n",
    "\n",
    "sci_sim.set_exposure_time(t_exp) # s\n",
    "sci_sim.set_output(output_path+sci_fiber_model+'_exp'+str(t_exp)+'_Jmag'+str(star_J_mag)+'.fits', overwrite=True)\n",
    "sci_sim.set_telescope(tele) \n",
    "\n",
    "# setting orders that do not have any data will throw an error\n",
    "sci_sim.set_orders([62,63,64,65,66,67,68,69,70,71,72,72,74,80,81,82,83,84,85,86,87,88,89,90,91,92,93,94,96,96,97]) \n",
    "# the efficiency has already been applied to the number of photons in the csv\n",
    "sci_sim.set_efficiency(TabulatedEfficiency(1, [0.9,2.5], [1,1]))\n",
    "\n",
    "sci_sim.max_cpu = 1 # set number of cpu to use\n",
    "sci_sim.run()"
   ]
  },
  {
   "cell_type": "markdown",
   "id": "adb23b55",
   "metadata": {},
   "source": [
    "### Sky fiber\n"
   ]
  },
  {
   "cell_type": "code",
   "execution_count": null,
   "id": "700c3f0a",
   "metadata": {},
   "outputs": [],
   "source": [
    "if full_thermal_spec[0].value > 1.0:\n",
    "    # only do the sky simulation if there are actually photons to simulate\n",
    "    sky_sim = Simulator(ZEMAX(sky_fiber_model))\n",
    "    sky_sim.set_ccd(1) # always leave as 1\n",
    "    sky_sim.set_fibers(1) # leave as 1 since the fibers are in separate models\n",
    "\n",
    "    sky_source = CSV(filepath=output_path+'sky_spec_exp'+str(t_exp)+'.csv',list_like=False,\n",
    "                     flux_in_photons=True, wavelength_unit='micron')\n",
    "\n",
    "    sky_sim.set_sources(sky_source) \n",
    "    sky_sim.set_exposure_time(t_exp) # s\n",
    "    sky_sim.set_output(output_path+sky_fiber_model+'_exp'+str(t_exp)+'.fits', overwrite=True)\n",
    "    sky_sim.set_telescope(tele) \n",
    "    sky_sim.set_orders([62,63,64,65,66,67,68,69,70,71,72,72,74,80,81,82,83,84,85,86,87,88,89,90,91,92,93,94,96,96,97]) \n",
    "    # the efficiency has already been applied to the number of photons in the csv\n",
    "    sky_sim.set_efficiency(TabulatedEfficiency(1, [0.9,2.5], [1,1]))\n",
    "\n",
    "    sky_sim.max_cpu = 1 # set number of cpu to use\n",
    "    sky_sim.run()"
   ]
  },
  {
   "cell_type": "markdown",
   "id": "4adf51be",
   "metadata": {},
   "source": [
    "### Create noise background"
   ]
  },
  {
   "cell_type": "code",
   "execution_count": null,
   "id": "2aecfcd2",
   "metadata": {},
   "outputs": [],
   "source": [
    "import nghxrg as ng\n",
    "# Instantiate a new object on account of the different array dimensions.\n",
    "# Recall that the H4RG has 4096x4096 pixels. Run using\n",
    "# 32 outputs. Also set the new row overhead to 8 pixels (a power of 2)\n",
    "# which simplifies working with the data in Fourier space.\n",
    "ng_h4rg = ng.HXRGNoise(naxis1=4096, naxis2=4096, n_out=32, nroh=8, verbose=False)\n",
    "\n",
    "# Make a noise file.\n",
    "rd_noise=4   # White read noise per integration\n",
    "pedestal=4   # DC pedestal drift rms\n",
    "c_pink=3     # Correlated pink noise\n",
    "u_pink=1     # Uncorrelated pink noise\n",
    "c_ACN=1      # Alternating column noise\n",
    "\n",
    "# Use the same parameters as in Ex. 2.1\n",
    "acn=.5        # Correlated ACN\n",
    "pca0_amp=.2   # Amplitude of PCA zero \"picture frame\" noise\n",
    "\n",
    "my_hdu = ng_h4rg.mknoise(output_path+'/h4rg_noise.fits', rd_noise=rd_noise, pedestal=pedestal, c_pink=c_pink,\n",
    "            u_pink=u_pink, acn=acn)"
   ]
  },
  {
   "cell_type": "markdown",
   "id": "3a18a178",
   "metadata": {},
   "source": [
    "Dark current"
   ]
  },
  {
   "cell_type": "code",
   "execution_count": null,
   "id": "3fc3be12",
   "metadata": {},
   "outputs": [],
   "source": [
    "# Setup\n",
    "i_dark = 0.005# e-/s/pix - mean current of NIRSpec detectors\n",
    "\n",
    "# Open the result of Ex. 2.1.1\n",
    "hdulist = fits.open(output_path+'h4rg_noise.fits')\n",
    "\n",
    "# Add Poisson noise to the data\n",
    "d = hdulist[0].data + np.random.poisson(i_dark*t_exp, np.shape(hdulist[0].data))\n",
    "\n",
    "# Write result\n",
    "hduout = fits.PrimaryHDU(d)\n",
    "hduout.writeto(output_path+'h4rg_noise_w_dark_current.fits', clobber=True)\n",
    "\n",
    "# Clean up\n",
    "hdulist.close()"
   ]
  },
  {
   "cell_type": "code",
   "execution_count": null,
   "id": "7987fae7",
   "metadata": {},
   "outputs": [],
   "source": [
    "hdu_noise = fits.open(output_path+'h4rg_noise_w_dark_current.fits')\n",
    "hdu_lfc = fits.open(output_path+lfc_fiber_model+'_exp'+str(t_exp)+'.fits')\n",
    "hdu_sci = fits.open(output_path+sci_fiber_model+'_exp'+str(t_exp)+'_Jmag'+str(star_J_mag)+'.fits')\n",
    "hdu_sky = fits.open(output_path+sky_fiber_model+'_exp'+str(t_exp)+'.fits')\n",
    "\n",
    "\n",
    "d = hdu_noise[0].data + hdu_lfc[0].data + hdu_sci[0].data + hdu_sky[0].data\n",
    "\n",
    "# Write result\n",
    "hduout = fits.PrimaryHDU(d)\n",
    "hduout.writeto(output_path+'HISPECsim_out_'+str(t_exp)+'s.fits', overwrite=True)\n",
    "\n",
    "# Clean up\n",
    "hdulist.close()"
   ]
  },
  {
   "cell_type": "code",
   "execution_count": null,
   "id": "d4d6cbd5",
   "metadata": {},
   "outputs": [],
   "source": []
  }
 ],
 "metadata": {
  "kernelspec": {
   "display_name": "Python 3",
   "language": "python",
   "name": "python3"
  },
  "language_info": {
   "codemirror_mode": {
    "name": "ipython",
    "version": 3
   },
   "file_extension": ".py",
   "mimetype": "text/x-python",
   "name": "python",
   "nbconvert_exporter": "python",
   "pygments_lexer": "ipython3",
   "version": "3.9.13"
  }
 },
 "nbformat": 4,
 "nbformat_minor": 5
}
