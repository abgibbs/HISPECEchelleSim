{
 "cells": [
  {
   "cell_type": "markdown",
   "id": "8792ab49",
   "metadata": {},
   "source": [
    "#  Standard Star Tutorial\n",
    "Create a simulated observation of a standard A0 star"
   ]
  },
  {
   "cell_type": "code",
   "execution_count": 1,
   "id": "c7a50d86",
   "metadata": {},
   "outputs": [],
   "source": [
    "from pyechelle.simulator import Simulator\n",
    "from pyechelle.telescope import Telescope\n",
    "from pyechelle.sources import Phoenix\n",
    "from pyechelle.sources import CSV\n",
    "from pyechelle.spectrograph import ZEMAX\n",
    "\n",
    "import numpy as np\n",
    "\n",
    "from astropy.io import fits\n",
    "import astropy.units as u\n",
    "import scipy.io"
   ]
  },
  {
   "cell_type": "markdown",
   "id": "112ae46d",
   "metadata": {},
   "source": [
    "### Setup paths and file names\n",
    "Change the output path."
   ]
  },
  {
   "cell_type": "code",
   "execution_count": 2,
   "id": "f9c841bc",
   "metadata": {},
   "outputs": [],
   "source": [
    "output_path = '/home/aidan/data/hispec_simulations/'\n",
    "\n",
    "sci_fiber_model = 'HISPEC_HK_SCI'\n",
    "lfc_fiber_model = 'HISPEC_HK_LFC'\n",
    "sky_fiber_model = 'HISPEC_HK_SKY_BKGD'\n",
    "dark_fiber_model = 'HISPEC_HK_DARK'"
   ]
  },
  {
   "cell_type": "markdown",
   "id": "999a67b7",
   "metadata": {},
   "source": [
    "### General observing parameters"
   ]
  },
  {
   "cell_type": "code",
   "execution_count": 3,
   "id": "e91500bf",
   "metadata": {},
   "outputs": [],
   "source": [
    "t_exp = 1.0 # s\n",
    "tele = Telescope(9.96,0)"
   ]
  },
  {
   "cell_type": "markdown",
   "id": "2c008d9f",
   "metadata": {},
   "source": [
    "### LFC Fiber"
   ]
  },
  {
   "cell_type": "code",
   "execution_count": 4,
   "id": "886dcd16",
   "metadata": {},
   "outputs": [],
   "source": [
    "lfc_15_27_path = '/home/aidan/code/HISPECEchelleSim/lfc/20220513_1.5-3.4um/disp2_2.145_disp3_-0.05_ptamp_4.5A_1.5-2.7um.mat'\n",
    "lfc_09_17_path = '/home/aidan/code/HISPECEchelleSim/lfc/20220513_0.6-1.7um/disp2_2.145_disp3_-0.05_ptamp_4.5A_0.9-1.7um_highres.mat'\n",
    "lfc_15_27 = scipy.io.loadmat(lfc_15_27_path) \n",
    "lfc_09_17 = scipy.io.loadmat(lfc_09_17_path) \n",
    "\n",
    "lfc_15_27_power = np.power(10, lfc_15_27['OSAPower'] / 10) * 1e4 #* u.erg/u.s/u.cm**2 \n",
    "lfc_15_27_wvs = (lfc_15_27['OSAWavelength'] * u.nm).to(u.micron)\n",
    "lfc_09_17_power = np.power(10, lfc_09_17['OSAPower'] / 10) * 1e4 #* u.erg/u.s/u.cm**2 \n",
    "lfc_09_17_wvs = (lfc_09_17['OSAWavelength'] * u.nm).to(u.micron)\n",
    "\n",
    "idx_17 = np.argmin(abs(lfc_15_27_wvs.value - 1.7))\n",
    "lfc_power = np.concatenate((lfc_09_17_power.flatten(), lfc_15_27_power.flatten()[idx_17+1:]), axis=0)* u.erg/u.s/u.cm**2 \n",
    "lfc_wvs = np.concatenate((lfc_09_17_wvs.flatten(), lfc_15_27_wvs.flatten()[idx_17+1:]))\n",
    "\n",
    "\n",
    "\n",
    "# converting the power to ph/s/cm2/cm, should be units for input to pyechelle\n",
    "lfc_spec = lfc_power.to(u.ph/u.s/u.cm**2,equivalencies=u.spectral_density(lfc_wvs))"
   ]
  },
  {
   "cell_type": "code",
   "execution_count": 5,
   "id": "214bd4c3",
   "metadata": {},
   "outputs": [],
   "source": [
    "# write lfc spec to csv\n",
    "lfc = np.column_stack((lfc_wvs.value * 1e4, lfc_spec.value/1e10))\n",
    "np.savetxt(output_path+'lfc_spec.csv', lfc, delimiter=',')"
   ]
  },
  {
   "cell_type": "markdown",
   "id": "a46702b0",
   "metadata": {},
   "source": [
    "Run the simulation for the lfc fiber"
   ]
  },
  {
   "cell_type": "code",
   "execution_count": 6,
   "id": "3a4cd747",
   "metadata": {},
   "outputs": [
    {
     "name": "stderr",
     "output_type": "stream",
     "text": [
      "WARNING:root:No spectrograph efficiency data found for fiber 1.\n"
     ]
    },
    {
     "name": "stdout",
     "output_type": "stream",
     "text": [
      "filepath=PosixPath('/home/aidan/data/hispec_simulations/lfc_spec.csv'), <class 'pathlib.PosixPath'>\n",
      "Order  59:     2441.8 -  2477.6 nm.     Number of photons: 356331\n",
      "Order  60:     2401.1 -  2436.3 nm.     Number of photons: 684786\n",
      "Order  61:     2361.8 -  2396.3 nm.     Number of photons: 849522\n",
      "Order  62:     2323.6 -  2357.8 nm.     Number of photons: 928728\n",
      "Order  63:     2286.7 -  2320.3 nm.     Number of photons: 1472802\n",
      "Order  64:     2251.1 -  2284.0 nm.     Number of photons: 2710328\n",
      "Order  65:     2216.4 -  2248.9 nm.     Number of photons: 4501507\n",
      "Order  66:     2182.8 -  2214.8 nm.     Number of photons: 6865426\n",
      "Order  67:     2150.2 -  2181.8 nm.     Number of photons: 10002552\n",
      "Order  68:     2118.6 -  2149.8 nm.     Number of photons: 13210591\n",
      "Order  69:     2087.9 -  2118.5 nm.     Number of photons: 17009190\n",
      "Order  70:     2058.1 -  2088.3 nm.     Number of photons: 21135855\n",
      "Order  71:     2029.1 -  2058.9 nm.     Number of photons: 25044240\n",
      "Order  72:     2000.9 -  2030.3 nm.     Number of photons: 26403134\n",
      "Order  73:     1973.5 -  2002.5 nm.     Number of photons: 29024885\n",
      "Order  74:     1946.8 -  1975.4 nm.     Number of photons: 31376138\n",
      "Order  75:     1920.9 -  1949.1 nm.     Number of photons: 31810577\n",
      "Order  76:     1895.6 -  1923.4 nm.     Number of photons: 30391411\n",
      "Order  77:     1870.9 -  1898.4 nm.     Number of photons: 30680568\n",
      "Order  78:     1847.0 -  1874.1 nm.     Number of photons: 28836454\n",
      "Order  79:     1823.6 -  1850.4 nm.     Number of photons: 29221986\n",
      "Order  80:     1800.9 -  1827.2 nm.     Number of photons: 32764534\n",
      "Order  81:     1778.6 -  1804.6 nm.     Number of photons: 31553398\n",
      "Order  82:     1756.9 -  1782.7 nm.     Number of photons: 34815776\n",
      "Order  83:     1735.7 -  1761.2 nm.     Number of photons: 40838752\n",
      "Order  84:     1715.1 -  1740.3 nm.     Number of photons: 37326368\n",
      "Order  85:     1694.8 -  1719.7 nm.     Number of photons: 32091398\n",
      "Order  86:     1675.2 -  1699.8 nm.     Number of photons: 214948\n",
      "Order  87:     1655.9 -  1680.2 nm.     Number of photons: 143323\n",
      "Order  88:     1637.2 -  1661.1 nm.     Number of photons: 144781\n",
      "Order  89:     1618.7 -  1642.5 nm.     Number of photons: 107017\n",
      "Order  90:     1600.7 -  1624.2 nm.     Number of photons: 458877\n",
      "Order  91:     1583.1 -  1606.4 nm.     Number of photons: 1202178\n",
      "Order  92:     1566.0 -  1588.9 nm.     Number of photons: 2830527\n",
      "Order  93:     1549.1 -  1571.9 nm.     Number of photons: 25623152\n",
      "Order  94:     1532.6 -  1555.1 nm.     Number of photons: 1784077\n",
      "Order  95:     1516.4 -  1538.7 nm.     Number of photons: 935025\n",
      "Order  96:     1500.6 -  1522.7 nm.     Number of photons: 487872\n",
      "Order  97:     1485.4 -  1506.3 nm.     Number of photons: 172180\n"
     ]
    },
    {
     "name": "stderr",
     "output_type": "stream",
     "text": [
      "INFO:Simulator:Finish up simulation and save...\n",
      "INFO:Simulator:Total time for simulation: 215.317s.\n",
      "INFO:Simulator:Total simulated photons: 586011194\n"
     ]
    },
    {
     "data": {
      "text/plain": [
       "586011194"
      ]
     },
     "execution_count": 6,
     "metadata": {},
     "output_type": "execute_result"
    }
   ],
   "source": [
    "lfc_sim = Simulator(ZEMAX(lfc_fiber_model))\n",
    "lfc_sim.set_ccd(1) # always leave as 1\n",
    "lfc_sim.set_fibers(1) # leave as 1 since the fibers are in separate models\n",
    "lfc_sim.set_sources(CSV(output_path+'lfc_spec.csv', flux_in_photons=True)) \n",
    "lfc_sim.set_exposure_time(t_exp) # s\n",
    "lfc_sim.set_output(output_path+lfc_fiber_model+'_texp'+str(t_exp)+'.fits', overwrite=True)\n",
    "lfc_sim.set_telescope(tele) \n",
    "lfc_sim.set_orders([*range(59, 98)]) # a list of all expected orders 59 to 97\n",
    "\n",
    "lfc_sim.max_cpu = 1 # set number of cpu to use\n",
    "lfc_sim.run()"
   ]
  },
  {
   "cell_type": "code",
   "execution_count": null,
   "id": "aca39dde",
   "metadata": {},
   "outputs": [],
   "source": []
  }
 ],
 "metadata": {
  "kernelspec": {
   "display_name": "Python 3",
   "language": "python",
   "name": "python3"
  },
  "language_info": {
   "codemirror_mode": {
    "name": "ipython",
    "version": 3
   },
   "file_extension": ".py",
   "mimetype": "text/x-python",
   "name": "python",
   "nbconvert_exporter": "python",
   "pygments_lexer": "ipython3",
   "version": "3.9.12"
  }
 },
 "nbformat": 4,
 "nbformat_minor": 5
}
